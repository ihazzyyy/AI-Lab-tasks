{
 "cells": [
  {
   "cell_type": "markdown",
   "metadata": {},
   "source": [
    "MINI PROJECT 1 "
   ]
  },
  {
   "cell_type": "code",
   "execution_count": null,
   "metadata": {},
   "outputs": [],
   "source": [
    "import random \n",
    "\n",
    "print(\"Welcome to the FizzBuzz challenge!\")\n",
    "\n",
    "attempts = 1\n",
    "prev = 0 \n",
    "\n",
    "while attempts <= 5:\n",
    "\n",
    "    random_n = random.randint(0, 50)\n",
    "    temp = prev  \n",
    "    prev = random_n  \n",
    "\n",
    "    print(f\"Generated number: {random_n}\")\n",
    "\n",
    "    player_guess = input(\"What do you think? Is it 'fizz', 'buzz', or 'fizzbuzz'? \").strip().lower()\n",
    "\n",
    "    total = temp + prev  \n",
    "\n",
    "    if player_guess == \"fizzbuzz\" and total % 3 == 0 and total % 5 == 0:\n",
    "        print(\"kamaal shabeeray \")\n",
    "\n",
    "    elif player_guess == \"fizz\" and total % 3 == 0:\n",
    "        print(\"ae e jutttttt brand\")\n",
    "\n",
    "    elif player_guess == \"buzz\" and total % 5 == 0:\n",
    "        print(\"well done ustad\")\n",
    "\n",
    "    else:\n",
    "        print(\"reh gaye ho na fer\")\n",
    "\n",
    "    attempts += 1  \n",
    "\n",
    "print(\"shukriya\")\n"
   ]
  },
  {
   "cell_type": "markdown",
   "metadata": {},
   "source": [
    "MINI PROJECT 2 "
   ]
  },
  {
   "cell_type": "code",
   "execution_count": null,
   "metadata": {},
   "outputs": [],
   "source": [
    "movies = [\n",
    "(\"Eternal Sunshine of the Spotless Mind\", 20000000),\n",
    "(\"Memento\", 9000000),\n",
    "(\"Requiem for a Dream\", 4500000),\n",
    "(\"Pirates of the Caribbean: On Stranger Tides\", 379000000),\n",
    "(\"Avengers: Age of Ultron\", 365000000),\n",
    "(\"Avengers: Endgame\", 356000000),\n",
    "(\"Incredibles 2\", 200000000)\n",
    "]\n",
    "\n",
    "def add():\n",
    "    num = int(input('enter the number of movies you want to enter: '))\n",
    "    for i in range(num):\n",
    "        movie = input('enter the name of the movie: ')\n",
    "        budget = int(input('enter the budget of the movie: '))\n",
    "        movies.append((movie, budget))\n",
    "        print(f\"Movie '{movie}' with budget {budget}$ added successfully!\")\n",
    "\n",
    "add()   \n",
    "\n",
    "total = 0 \n",
    "for movie, budget in movies:\n",
    "     total += budget \n",
    "     average = total/ len(movies)\n",
    "print(f'total: {total}$, average: {average}$')\n",
    "\n",
    "print('\\n')\n",
    "\n",
    "count = 0\n",
    "for movie, budget in movies:\n",
    "     if budget > average:\n",
    "        difference = budget - average \n",
    "        count += 1\n",
    "        print(f'{movie} above average budget by {difference}$')\n",
    "print(f'total number of movies above budget: {count}') \n",
    "\n",
    "\n"
   ]
  }
 ],
 "metadata": {
  "kernelspec": {
   "display_name": "Python 3",
   "language": "python",
   "name": "python3"
  },
  "language_info": {
   "name": "python",
   "version": "3.11.2"
  }
 },
 "nbformat": 4,
 "nbformat_minor": 2
}
