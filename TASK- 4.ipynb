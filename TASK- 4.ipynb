{
 "cells": [
  {
   "cell_type": "code",
   "execution_count": null,
   "metadata": {},
   "outputs": [],
   "source": [
    "def validity(input):\n",
    "    input = input[::-1]\n",
    "\n",
    "    input = [int(x) for x in input]\n",
    "\n",
    "    for i in range(1, len(input), 2):\n",
    "        input[i] *= 2 \n",
    "\n",
    "        if input[i] > 9:\n",
    "            input[i] -= 9\n",
    "    total = sum(input)\n",
    "\n",
    "    if total % 10 == 0:\n",
    "        print('Card is VALID')\n",
    "    else:\n",
    "        print('Card is INVALID')       \n",
    "\n",
    "validity('5893804115457289')"
   ]
  },
  {
   "cell_type": "code",
   "execution_count": 2,
   "metadata": {},
   "outputs": [
    {
     "name": "stdout",
     "output_type": "stream",
     "text": [
      "original: Hello, world! How's it going?\n",
      "w/o punctuations: Hello world Hows it going\n"
     ]
    }
   ],
   "source": [
    "def remove_punctuation(text):\n",
    "    punctuations = '''!()-[]{};:'\"\\,<>./?@#$%^&*_~'''\n",
    "    result = ''\n",
    "\n",
    "    for char in text:\n",
    "        if char not in punctuations:\n",
    "            result += char\n",
    "\n",
    "    return result\n",
    "\n",
    "text = \"Hello, world! How's it going?\"\n",
    "clean = remove_punctuation(text)\n",
    "print(f'original: {text}')\n",
    "print(f'w/o punctuations: {clean}')\n"
   ]
  },
  {
   "cell_type": "code",
   "execution_count": 5,
   "metadata": {},
   "outputs": [
    {
     "name": "stdout",
     "output_type": "stream",
     "text": [
      "Original Sentence: can apple bear \n",
      "Sorted Sentence: applebearcan\n"
     ]
    }
   ],
   "source": [
    "def sort_sentence(sentence):\n",
    "    words = sentence.split(' ')\n",
    "    words.sort()\n",
    "    sorted = ''.join(words)\n",
    "    return sorted \n",
    "\n",
    "sentence = \"can apple bear \"\n",
    "sorted_result = sort_sentence(sentence)\n",
    "print(\"Original Sentence:\", sentence)\n",
    "print(\"Sorted Sentence:\", sorted_result)\n"
   ]
  }
 ],
 "metadata": {
  "kernelspec": {
   "display_name": "Python 3",
   "language": "python",
   "name": "python3"
  },
  "language_info": {
   "codemirror_mode": {
    "name": "ipython",
    "version": 3
   },
   "file_extension": ".py",
   "mimetype": "text/x-python",
   "name": "python",
   "nbconvert_exporter": "python",
   "pygments_lexer": "ipython3",
   "version": "3.11.2"
  }
 },
 "nbformat": 4,
 "nbformat_minor": 2
}
