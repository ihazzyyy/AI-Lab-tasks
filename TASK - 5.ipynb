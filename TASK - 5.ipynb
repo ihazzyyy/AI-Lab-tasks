{
 "cells": [
  {
   "cell_type": "code",
   "execution_count": null,
   "metadata": {},
   "outputs": [
    {
     "name": "stdout",
     "output_type": "stream",
     "text": [
      "1 2 4 5 6 3 7 "
     ]
    }
   ],
   "source": [
    "def dfs(graph, start):\n",
    "    stack = [start]\n",
    "    visited = []\n",
    "\n",
    "    while stack:\n",
    "        node = stack.pop()\n",
    "        if node not in visited:\n",
    "            visited.append(node)\n",
    "            stack.extend(reversed(graph[node]))\n",
    "            print(node, end=' ')\n",
    "\n",
    "graph = {\n",
    "    '1' : ['2','3'],\n",
    "    '2' : ['4'],\n",
    "    '3' : ['4','7'],\n",
    "    '4' : ['5','6'],\n",
    "    '5' : [],\n",
    "    '6' : [],\n",
    "    '7' : []\n",
    "}\n",
    "\n",
    "dfs(graph, '1')"
   ]
  },
  {
   "cell_type": "markdown",
   "metadata": {},
   "source": [
    "Inorder, Preorder, and Postorder are tree traversal techniques used in Depth-First Search (DFS) for trees.\n",
    "\n",
    "    Preorder (Root → Left → Right): Visit the root first, then the left subtree, and finally the right subtree.\n",
    "    Inorder (Left → Root → Right): Visit the left subtree first, then the root, and finally the right subtree.\n",
    "    Postorder (Left → Right → Root): Visit the left subtree first, then the right subtree, and finally the root."
   ]
  }
 ],
 "metadata": {
  "kernelspec": {
   "display_name": "Python 3",
   "language": "python",
   "name": "python3"
  },
  "language_info": {
   "codemirror_mode": {
    "name": "ipython",
    "version": 3
   },
   "file_extension": ".py",
   "mimetype": "text/x-python",
   "name": "python",
   "nbconvert_exporter": "python",
   "pygments_lexer": "ipython3",
   "version": "3.11.2"
  }
 },
 "nbformat": 4,
 "nbformat_minor": 2
}
