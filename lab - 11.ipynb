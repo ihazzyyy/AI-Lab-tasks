{
 "cells": [
  {
   "cell_type": "code",
   "execution_count": 44,
   "id": "5c660c61",
   "metadata": {},
   "outputs": [
    {
     "name": "stdout",
     "output_type": "stream",
     "text": [
      "Collecting flask\n",
      "  Downloading flask-3.1.0-py3-none-any.whl (102 kB)\n",
      "     ------------------------------------ 103.0/103.0 kB 197.7 kB/s eta 0:00:00\n",
      "Collecting Werkzeug>=3.1\n",
      "  Downloading werkzeug-3.1.3-py3-none-any.whl (224 kB)\n",
      "     -------------------------------------- 224.5/224.5 kB 2.0 MB/s eta 0:00:00\n",
      "Collecting Jinja2>=3.1.2\n",
      "  Downloading jinja2-3.1.6-py3-none-any.whl (134 kB)\n",
      "     -------------------------------------- 134.9/134.9 kB 2.7 MB/s eta 0:00:00\n",
      "Collecting itsdangerous>=2.2\n",
      "  Downloading itsdangerous-2.2.0-py3-none-any.whl (16 kB)\n",
      "Collecting click>=8.1.3\n",
      "  Downloading click-8.1.8-py3-none-any.whl (98 kB)\n",
      "     ---------------------------------------- 98.2/98.2 kB 2.8 MB/s eta 0:00:00\n",
      "Collecting blinker>=1.9\n",
      "  Downloading blinker-1.9.0-py3-none-any.whl (8.5 kB)\n",
      "Requirement already satisfied: colorama in c:\\users\\lenovo\\appdata\\roaming\\python\\python311\\site-packages (from click>=8.1.3->flask) (0.4.6)\n",
      "Collecting MarkupSafe>=2.0\n",
      "  Downloading MarkupSafe-3.0.2-cp311-cp311-win_amd64.whl (15 kB)\n",
      "Installing collected packages: MarkupSafe, itsdangerous, click, blinker, Werkzeug, Jinja2, flask\n",
      "Successfully installed Jinja2-3.1.6 MarkupSafe-3.0.2 Werkzeug-3.1.3 blinker-1.9.0 click-8.1.8 flask-3.1.0 itsdangerous-2.2.0\n"
     ]
    },
    {
     "name": "stderr",
     "output_type": "stream",
     "text": [
      "\n",
      "[notice] A new release of pip available: 22.3.1 -> 25.1.1\n",
      "[notice] To update, run: python.exe -m pip install --upgrade pip\n"
     ]
    }
   ],
   "source": [
    "import pandas as pd \n",
    "import numpy as np\n",
    "import pickle \n",
    "\n",
    "from sklearn.preprocessing import LabelEncoder \n",
    "from sklearn.model_selection import train_test_split\n",
    "\n",
    "from sklearn.svm import SVR\n",
    "from sklearn.linear_model import LinearRegression\n",
    "from sklearn.ensemble import GradientBoostingRegressor\n",
    "from sklearn.ensemble import RandomForestRegressor\n",
    "\n",
    "from sklearn.metrics import accuracy_score\n",
    "from sklearn.metrics import mean_squared_error, mean_absolute_error, r2_score\n",
    "import joblib\n",
    "!pip install flask"
   ]
  },
  {
   "cell_type": "markdown",
   "id": "3218b819",
   "metadata": {},
   "source": [
    "<e><b><h1> Data exploration </b></h1></e>"
   ]
  },
  {
   "cell_type": "code",
   "execution_count": 24,
   "id": "2af43762",
   "metadata": {},
   "outputs": [
    {
     "data": {
      "text/html": [
       "<div>\n",
       "<style scoped>\n",
       "    .dataframe tbody tr th:only-of-type {\n",
       "        vertical-align: middle;\n",
       "    }\n",
       "\n",
       "    .dataframe tbody tr th {\n",
       "        vertical-align: top;\n",
       "    }\n",
       "\n",
       "    .dataframe thead th {\n",
       "        text-align: right;\n",
       "    }\n",
       "</style>\n",
       "<table border=\"1\" class=\"dataframe\">\n",
       "  <thead>\n",
       "    <tr style=\"text-align: right;\">\n",
       "      <th></th>\n",
       "      <th>Date</th>\n",
       "      <th>Customer_ID</th>\n",
       "      <th>City</th>\n",
       "      <th>Category</th>\n",
       "      <th>Product</th>\n",
       "      <th>Unit Price</th>\n",
       "      <th>Quantity</th>\n",
       "      <th>Sales Amount</th>\n",
       "      <th>Used_Discount</th>\n",
       "      <th>Discount_Amount</th>\n",
       "      <th>Final Sales</th>\n",
       "    </tr>\n",
       "  </thead>\n",
       "  <tbody>\n",
       "    <tr>\n",
       "      <th>0</th>\n",
       "      <td>1/1/2023</td>\n",
       "      <td>32</td>\n",
       "      <td>Riyadh</td>\n",
       "      <td>coffee beans</td>\n",
       "      <td>Colombian</td>\n",
       "      <td>40</td>\n",
       "      <td>14</td>\n",
       "      <td>560</td>\n",
       "      <td>False</td>\n",
       "      <td>0</td>\n",
       "      <td>560</td>\n",
       "    </tr>\n",
       "    <tr>\n",
       "      <th>1</th>\n",
       "      <td>1/2/2023</td>\n",
       "      <td>49</td>\n",
       "      <td>Abha</td>\n",
       "      <td>coffee beans</td>\n",
       "      <td>Costa Rica</td>\n",
       "      <td>35</td>\n",
       "      <td>17</td>\n",
       "      <td>595</td>\n",
       "      <td>False</td>\n",
       "      <td>0</td>\n",
       "      <td>595</td>\n",
       "    </tr>\n",
       "    <tr>\n",
       "      <th>2</th>\n",
       "      <td>1/3/2023</td>\n",
       "      <td>75</td>\n",
       "      <td>Tabuk</td>\n",
       "      <td>coffee beans</td>\n",
       "      <td>Costa Rica</td>\n",
       "      <td>35</td>\n",
       "      <td>19</td>\n",
       "      <td>665</td>\n",
       "      <td>False</td>\n",
       "      <td>0</td>\n",
       "      <td>665</td>\n",
       "    </tr>\n",
       "    <tr>\n",
       "      <th>3</th>\n",
       "      <td>1/4/2023</td>\n",
       "      <td>80</td>\n",
       "      <td>Abha</td>\n",
       "      <td>coffee beans</td>\n",
       "      <td>Ethiopian</td>\n",
       "      <td>45</td>\n",
       "      <td>1</td>\n",
       "      <td>45</td>\n",
       "      <td>False</td>\n",
       "      <td>0</td>\n",
       "      <td>45</td>\n",
       "    </tr>\n",
       "    <tr>\n",
       "      <th>4</th>\n",
       "      <td>1/5/2023</td>\n",
       "      <td>78</td>\n",
       "      <td>Hail</td>\n",
       "      <td>coffee beans</td>\n",
       "      <td>Colombian</td>\n",
       "      <td>40</td>\n",
       "      <td>46</td>\n",
       "      <td>1840</td>\n",
       "      <td>True</td>\n",
       "      <td>368</td>\n",
       "      <td>1472</td>\n",
       "    </tr>\n",
       "    <tr>\n",
       "      <th>...</th>\n",
       "      <td>...</td>\n",
       "      <td>...</td>\n",
       "      <td>...</td>\n",
       "      <td>...</td>\n",
       "      <td>...</td>\n",
       "      <td>...</td>\n",
       "      <td>...</td>\n",
       "      <td>...</td>\n",
       "      <td>...</td>\n",
       "      <td>...</td>\n",
       "      <td>...</td>\n",
       "    </tr>\n",
       "    <tr>\n",
       "      <th>725</th>\n",
       "      <td>12/26/2024</td>\n",
       "      <td>4</td>\n",
       "      <td>Hail</td>\n",
       "      <td>coffee beans</td>\n",
       "      <td>Colombian</td>\n",
       "      <td>40</td>\n",
       "      <td>26</td>\n",
       "      <td>1040</td>\n",
       "      <td>False</td>\n",
       "      <td>0</td>\n",
       "      <td>1040</td>\n",
       "    </tr>\n",
       "    <tr>\n",
       "      <th>726</th>\n",
       "      <td>12/27/2024</td>\n",
       "      <td>63</td>\n",
       "      <td>Mecca</td>\n",
       "      <td>coffee beans</td>\n",
       "      <td>Colombian</td>\n",
       "      <td>40</td>\n",
       "      <td>10</td>\n",
       "      <td>400</td>\n",
       "      <td>False</td>\n",
       "      <td>0</td>\n",
       "      <td>400</td>\n",
       "    </tr>\n",
       "    <tr>\n",
       "      <th>727</th>\n",
       "      <td>12/28/2024</td>\n",
       "      <td>39</td>\n",
       "      <td>Abha</td>\n",
       "      <td>coffee beans</td>\n",
       "      <td>Costa Rica</td>\n",
       "      <td>35</td>\n",
       "      <td>47</td>\n",
       "      <td>1645</td>\n",
       "      <td>False</td>\n",
       "      <td>0</td>\n",
       "      <td>1645</td>\n",
       "    </tr>\n",
       "    <tr>\n",
       "      <th>728</th>\n",
       "      <td>12/29/2024</td>\n",
       "      <td>57</td>\n",
       "      <td>Tabuk</td>\n",
       "      <td>coffee beans</td>\n",
       "      <td>Ethiopian</td>\n",
       "      <td>45</td>\n",
       "      <td>3</td>\n",
       "      <td>135</td>\n",
       "      <td>True</td>\n",
       "      <td>27</td>\n",
       "      <td>108</td>\n",
       "    </tr>\n",
       "    <tr>\n",
       "      <th>729</th>\n",
       "      <td>12/30/2024</td>\n",
       "      <td>50</td>\n",
       "      <td>Medina</td>\n",
       "      <td>coffee beans</td>\n",
       "      <td>Brazilian</td>\n",
       "      <td>30</td>\n",
       "      <td>33</td>\n",
       "      <td>990</td>\n",
       "      <td>True</td>\n",
       "      <td>198</td>\n",
       "      <td>792</td>\n",
       "    </tr>\n",
       "  </tbody>\n",
       "</table>\n",
       "<p>730 rows × 11 columns</p>\n",
       "</div>"
      ],
      "text/plain": [
       "           Date  Customer_ID    City      Category     Product  Unit Price  \\\n",
       "0      1/1/2023           32  Riyadh  coffee beans   Colombian          40   \n",
       "1      1/2/2023           49    Abha  coffee beans  Costa Rica          35   \n",
       "2      1/3/2023           75   Tabuk  coffee beans  Costa Rica          35   \n",
       "3      1/4/2023           80    Abha  coffee beans   Ethiopian          45   \n",
       "4      1/5/2023           78    Hail  coffee beans   Colombian          40   \n",
       "..          ...          ...     ...           ...         ...         ...   \n",
       "725  12/26/2024            4    Hail  coffee beans   Colombian          40   \n",
       "726  12/27/2024           63   Mecca  coffee beans   Colombian          40   \n",
       "727  12/28/2024           39    Abha  coffee beans  Costa Rica          35   \n",
       "728  12/29/2024           57   Tabuk  coffee beans   Ethiopian          45   \n",
       "729  12/30/2024           50  Medina  coffee beans   Brazilian          30   \n",
       "\n",
       "     Quantity  Sales Amount  Used_Discount  Discount_Amount  Final Sales  \n",
       "0          14           560          False                0          560  \n",
       "1          17           595          False                0          595  \n",
       "2          19           665          False                0          665  \n",
       "3           1            45          False                0           45  \n",
       "4          46          1840           True              368         1472  \n",
       "..        ...           ...            ...              ...          ...  \n",
       "725        26          1040          False                0         1040  \n",
       "726        10           400          False                0          400  \n",
       "727        47          1645          False                0         1645  \n",
       "728         3           135           True               27          108  \n",
       "729        33           990           True              198          792  \n",
       "\n",
       "[730 rows x 11 columns]"
      ]
     },
     "execution_count": 24,
     "metadata": {},
     "output_type": "execute_result"
    }
   ],
   "source": [
    "data = pd.read_csv(r\"C:\\Users\\lenovo\\Downloads\\DatasetForCoffeeSales2.csv\")\n",
    "data "
   ]
  },
  {
   "cell_type": "code",
   "execution_count": 25,
   "id": "1a47ca52",
   "metadata": {},
   "outputs": [
    {
     "name": "stdout",
     "output_type": "stream",
     "text": [
      "number of rows: 730 \n",
      "number of columns: 11\n"
     ]
    }
   ],
   "source": [
    "print(f'number of rows: {data.shape[0]} \\nnumber of columns: {data.shape[1]}')"
   ]
  },
  {
   "cell_type": "code",
   "execution_count": 26,
   "id": "f532bf3a",
   "metadata": {},
   "outputs": [
    {
     "data": {
      "text/html": [
       "<div>\n",
       "<style scoped>\n",
       "    .dataframe tbody tr th:only-of-type {\n",
       "        vertical-align: middle;\n",
       "    }\n",
       "\n",
       "    .dataframe tbody tr th {\n",
       "        vertical-align: top;\n",
       "    }\n",
       "\n",
       "    .dataframe thead th {\n",
       "        text-align: right;\n",
       "    }\n",
       "</style>\n",
       "<table border=\"1\" class=\"dataframe\">\n",
       "  <thead>\n",
       "    <tr style=\"text-align: right;\">\n",
       "      <th></th>\n",
       "      <th>Date</th>\n",
       "      <th>Customer_ID</th>\n",
       "      <th>City</th>\n",
       "      <th>Category</th>\n",
       "      <th>Product</th>\n",
       "      <th>Unit Price</th>\n",
       "      <th>Quantity</th>\n",
       "      <th>Sales Amount</th>\n",
       "      <th>Used_Discount</th>\n",
       "      <th>Discount_Amount</th>\n",
       "      <th>Final Sales</th>\n",
       "    </tr>\n",
       "  </thead>\n",
       "  <tbody>\n",
       "    <tr>\n",
       "      <th>0</th>\n",
       "      <td>1/1/2023</td>\n",
       "      <td>32</td>\n",
       "      <td>Riyadh</td>\n",
       "      <td>coffee beans</td>\n",
       "      <td>Colombian</td>\n",
       "      <td>40</td>\n",
       "      <td>14</td>\n",
       "      <td>560</td>\n",
       "      <td>False</td>\n",
       "      <td>0</td>\n",
       "      <td>560</td>\n",
       "    </tr>\n",
       "    <tr>\n",
       "      <th>1</th>\n",
       "      <td>1/2/2023</td>\n",
       "      <td>49</td>\n",
       "      <td>Abha</td>\n",
       "      <td>coffee beans</td>\n",
       "      <td>Costa Rica</td>\n",
       "      <td>35</td>\n",
       "      <td>17</td>\n",
       "      <td>595</td>\n",
       "      <td>False</td>\n",
       "      <td>0</td>\n",
       "      <td>595</td>\n",
       "    </tr>\n",
       "    <tr>\n",
       "      <th>2</th>\n",
       "      <td>1/3/2023</td>\n",
       "      <td>75</td>\n",
       "      <td>Tabuk</td>\n",
       "      <td>coffee beans</td>\n",
       "      <td>Costa Rica</td>\n",
       "      <td>35</td>\n",
       "      <td>19</td>\n",
       "      <td>665</td>\n",
       "      <td>False</td>\n",
       "      <td>0</td>\n",
       "      <td>665</td>\n",
       "    </tr>\n",
       "    <tr>\n",
       "      <th>3</th>\n",
       "      <td>1/4/2023</td>\n",
       "      <td>80</td>\n",
       "      <td>Abha</td>\n",
       "      <td>coffee beans</td>\n",
       "      <td>Ethiopian</td>\n",
       "      <td>45</td>\n",
       "      <td>1</td>\n",
       "      <td>45</td>\n",
       "      <td>False</td>\n",
       "      <td>0</td>\n",
       "      <td>45</td>\n",
       "    </tr>\n",
       "    <tr>\n",
       "      <th>4</th>\n",
       "      <td>1/5/2023</td>\n",
       "      <td>78</td>\n",
       "      <td>Hail</td>\n",
       "      <td>coffee beans</td>\n",
       "      <td>Colombian</td>\n",
       "      <td>40</td>\n",
       "      <td>46</td>\n",
       "      <td>1840</td>\n",
       "      <td>True</td>\n",
       "      <td>368</td>\n",
       "      <td>1472</td>\n",
       "    </tr>\n",
       "  </tbody>\n",
       "</table>\n",
       "</div>"
      ],
      "text/plain": [
       "       Date  Customer_ID    City      Category     Product  Unit Price  \\\n",
       "0  1/1/2023           32  Riyadh  coffee beans   Colombian          40   \n",
       "1  1/2/2023           49    Abha  coffee beans  Costa Rica          35   \n",
       "2  1/3/2023           75   Tabuk  coffee beans  Costa Rica          35   \n",
       "3  1/4/2023           80    Abha  coffee beans   Ethiopian          45   \n",
       "4  1/5/2023           78    Hail  coffee beans   Colombian          40   \n",
       "\n",
       "   Quantity  Sales Amount  Used_Discount  Discount_Amount  Final Sales  \n",
       "0        14           560          False                0          560  \n",
       "1        17           595          False                0          595  \n",
       "2        19           665          False                0          665  \n",
       "3         1            45          False                0           45  \n",
       "4        46          1840           True              368         1472  "
      ]
     },
     "execution_count": 26,
     "metadata": {},
     "output_type": "execute_result"
    }
   ],
   "source": [
    "data.head()"
   ]
  },
  {
   "cell_type": "code",
   "execution_count": 27,
   "id": "a68af99d",
   "metadata": {},
   "outputs": [
    {
     "data": {
      "text/html": [
       "<div>\n",
       "<style scoped>\n",
       "    .dataframe tbody tr th:only-of-type {\n",
       "        vertical-align: middle;\n",
       "    }\n",
       "\n",
       "    .dataframe tbody tr th {\n",
       "        vertical-align: top;\n",
       "    }\n",
       "\n",
       "    .dataframe thead th {\n",
       "        text-align: right;\n",
       "    }\n",
       "</style>\n",
       "<table border=\"1\" class=\"dataframe\">\n",
       "  <thead>\n",
       "    <tr style=\"text-align: right;\">\n",
       "      <th></th>\n",
       "      <th>Date</th>\n",
       "      <th>Customer_ID</th>\n",
       "      <th>City</th>\n",
       "      <th>Category</th>\n",
       "      <th>Product</th>\n",
       "      <th>Unit Price</th>\n",
       "      <th>Quantity</th>\n",
       "      <th>Sales Amount</th>\n",
       "      <th>Used_Discount</th>\n",
       "      <th>Discount_Amount</th>\n",
       "      <th>Final Sales</th>\n",
       "    </tr>\n",
       "  </thead>\n",
       "  <tbody>\n",
       "    <tr>\n",
       "      <th>725</th>\n",
       "      <td>12/26/2024</td>\n",
       "      <td>4</td>\n",
       "      <td>Hail</td>\n",
       "      <td>coffee beans</td>\n",
       "      <td>Colombian</td>\n",
       "      <td>40</td>\n",
       "      <td>26</td>\n",
       "      <td>1040</td>\n",
       "      <td>False</td>\n",
       "      <td>0</td>\n",
       "      <td>1040</td>\n",
       "    </tr>\n",
       "    <tr>\n",
       "      <th>726</th>\n",
       "      <td>12/27/2024</td>\n",
       "      <td>63</td>\n",
       "      <td>Mecca</td>\n",
       "      <td>coffee beans</td>\n",
       "      <td>Colombian</td>\n",
       "      <td>40</td>\n",
       "      <td>10</td>\n",
       "      <td>400</td>\n",
       "      <td>False</td>\n",
       "      <td>0</td>\n",
       "      <td>400</td>\n",
       "    </tr>\n",
       "    <tr>\n",
       "      <th>727</th>\n",
       "      <td>12/28/2024</td>\n",
       "      <td>39</td>\n",
       "      <td>Abha</td>\n",
       "      <td>coffee beans</td>\n",
       "      <td>Costa Rica</td>\n",
       "      <td>35</td>\n",
       "      <td>47</td>\n",
       "      <td>1645</td>\n",
       "      <td>False</td>\n",
       "      <td>0</td>\n",
       "      <td>1645</td>\n",
       "    </tr>\n",
       "    <tr>\n",
       "      <th>728</th>\n",
       "      <td>12/29/2024</td>\n",
       "      <td>57</td>\n",
       "      <td>Tabuk</td>\n",
       "      <td>coffee beans</td>\n",
       "      <td>Ethiopian</td>\n",
       "      <td>45</td>\n",
       "      <td>3</td>\n",
       "      <td>135</td>\n",
       "      <td>True</td>\n",
       "      <td>27</td>\n",
       "      <td>108</td>\n",
       "    </tr>\n",
       "    <tr>\n",
       "      <th>729</th>\n",
       "      <td>12/30/2024</td>\n",
       "      <td>50</td>\n",
       "      <td>Medina</td>\n",
       "      <td>coffee beans</td>\n",
       "      <td>Brazilian</td>\n",
       "      <td>30</td>\n",
       "      <td>33</td>\n",
       "      <td>990</td>\n",
       "      <td>True</td>\n",
       "      <td>198</td>\n",
       "      <td>792</td>\n",
       "    </tr>\n",
       "  </tbody>\n",
       "</table>\n",
       "</div>"
      ],
      "text/plain": [
       "           Date  Customer_ID    City      Category     Product  Unit Price  \\\n",
       "725  12/26/2024            4    Hail  coffee beans   Colombian          40   \n",
       "726  12/27/2024           63   Mecca  coffee beans   Colombian          40   \n",
       "727  12/28/2024           39    Abha  coffee beans  Costa Rica          35   \n",
       "728  12/29/2024           57   Tabuk  coffee beans   Ethiopian          45   \n",
       "729  12/30/2024           50  Medina  coffee beans   Brazilian          30   \n",
       "\n",
       "     Quantity  Sales Amount  Used_Discount  Discount_Amount  Final Sales  \n",
       "725        26          1040          False                0         1040  \n",
       "726        10           400          False                0          400  \n",
       "727        47          1645          False                0         1645  \n",
       "728         3           135           True               27          108  \n",
       "729        33           990           True              198          792  "
      ]
     },
     "execution_count": 27,
     "metadata": {},
     "output_type": "execute_result"
    }
   ],
   "source": [
    "data.tail()"
   ]
  },
  {
   "cell_type": "code",
   "execution_count": 28,
   "id": "838e0e16",
   "metadata": {},
   "outputs": [
    {
     "name": "stdout",
     "output_type": "stream",
     "text": [
      "<class 'pandas.core.frame.DataFrame'>\n",
      "RangeIndex: 730 entries, 0 to 729\n",
      "Data columns (total 11 columns):\n",
      " #   Column           Non-Null Count  Dtype \n",
      "---  ------           --------------  ----- \n",
      " 0   Date             730 non-null    object\n",
      " 1   Customer_ID      730 non-null    int64 \n",
      " 2   City             730 non-null    object\n",
      " 3   Category         730 non-null    object\n",
      " 4   Product          730 non-null    object\n",
      " 5   Unit Price       730 non-null    int64 \n",
      " 6   Quantity         730 non-null    int64 \n",
      " 7   Sales Amount     730 non-null    int64 \n",
      " 8   Used_Discount    730 non-null    bool  \n",
      " 9   Discount_Amount  730 non-null    int64 \n",
      " 10  Final Sales      730 non-null    int64 \n",
      "dtypes: bool(1), int64(6), object(4)\n",
      "memory usage: 57.9+ KB\n"
     ]
    }
   ],
   "source": [
    "data.info()"
   ]
  },
  {
   "cell_type": "code",
   "execution_count": 29,
   "id": "75a8e6c3",
   "metadata": {},
   "outputs": [
    {
     "data": {
      "text/html": [
       "<div>\n",
       "<style scoped>\n",
       "    .dataframe tbody tr th:only-of-type {\n",
       "        vertical-align: middle;\n",
       "    }\n",
       "\n",
       "    .dataframe tbody tr th {\n",
       "        vertical-align: top;\n",
       "    }\n",
       "\n",
       "    .dataframe thead th {\n",
       "        text-align: right;\n",
       "    }\n",
       "</style>\n",
       "<table border=\"1\" class=\"dataframe\">\n",
       "  <thead>\n",
       "    <tr style=\"text-align: right;\">\n",
       "      <th></th>\n",
       "      <th>Customer_ID</th>\n",
       "      <th>Unit Price</th>\n",
       "      <th>Quantity</th>\n",
       "      <th>Sales Amount</th>\n",
       "      <th>Discount_Amount</th>\n",
       "      <th>Final Sales</th>\n",
       "    </tr>\n",
       "  </thead>\n",
       "  <tbody>\n",
       "    <tr>\n",
       "      <th>count</th>\n",
       "      <td>730.000000</td>\n",
       "      <td>730.000000</td>\n",
       "      <td>730.000000</td>\n",
       "      <td>730.000000</td>\n",
       "      <td>730.000000</td>\n",
       "      <td>730.000000</td>\n",
       "    </tr>\n",
       "    <tr>\n",
       "      <th>mean</th>\n",
       "      <td>51.669863</td>\n",
       "      <td>36.794521</td>\n",
       "      <td>26.080822</td>\n",
       "      <td>959.924658</td>\n",
       "      <td>97.393151</td>\n",
       "      <td>862.531507</td>\n",
       "    </tr>\n",
       "    <tr>\n",
       "      <th>std</th>\n",
       "      <td>29.014339</td>\n",
       "      <td>4.955104</td>\n",
       "      <td>14.480971</td>\n",
       "      <td>551.282730</td>\n",
       "      <td>123.401350</td>\n",
       "      <td>509.032315</td>\n",
       "    </tr>\n",
       "    <tr>\n",
       "      <th>min</th>\n",
       "      <td>1.000000</td>\n",
       "      <td>30.000000</td>\n",
       "      <td>1.000000</td>\n",
       "      <td>30.000000</td>\n",
       "      <td>0.000000</td>\n",
       "      <td>24.000000</td>\n",
       "    </tr>\n",
       "    <tr>\n",
       "      <th>25%</th>\n",
       "      <td>27.250000</td>\n",
       "      <td>35.000000</td>\n",
       "      <td>14.000000</td>\n",
       "      <td>495.000000</td>\n",
       "      <td>0.000000</td>\n",
       "      <td>448.000000</td>\n",
       "    </tr>\n",
       "    <tr>\n",
       "      <th>50%</th>\n",
       "      <td>52.000000</td>\n",
       "      <td>35.000000</td>\n",
       "      <td>27.000000</td>\n",
       "      <td>960.000000</td>\n",
       "      <td>13.000000</td>\n",
       "      <td>840.000000</td>\n",
       "    </tr>\n",
       "    <tr>\n",
       "      <th>75%</th>\n",
       "      <td>77.000000</td>\n",
       "      <td>40.000000</td>\n",
       "      <td>39.000000</td>\n",
       "      <td>1400.000000</td>\n",
       "      <td>192.000000</td>\n",
       "      <td>1260.000000</td>\n",
       "    </tr>\n",
       "    <tr>\n",
       "      <th>max</th>\n",
       "      <td>100.000000</td>\n",
       "      <td>45.000000</td>\n",
       "      <td>49.000000</td>\n",
       "      <td>2205.000000</td>\n",
       "      <td>441.000000</td>\n",
       "      <td>2205.000000</td>\n",
       "    </tr>\n",
       "  </tbody>\n",
       "</table>\n",
       "</div>"
      ],
      "text/plain": [
       "       Customer_ID  Unit Price    Quantity  Sales Amount  Discount_Amount  \\\n",
       "count   730.000000  730.000000  730.000000    730.000000       730.000000   \n",
       "mean     51.669863   36.794521   26.080822    959.924658        97.393151   \n",
       "std      29.014339    4.955104   14.480971    551.282730       123.401350   \n",
       "min       1.000000   30.000000    1.000000     30.000000         0.000000   \n",
       "25%      27.250000   35.000000   14.000000    495.000000         0.000000   \n",
       "50%      52.000000   35.000000   27.000000    960.000000        13.000000   \n",
       "75%      77.000000   40.000000   39.000000   1400.000000       192.000000   \n",
       "max     100.000000   45.000000   49.000000   2205.000000       441.000000   \n",
       "\n",
       "       Final Sales  \n",
       "count   730.000000  \n",
       "mean    862.531507  \n",
       "std     509.032315  \n",
       "min      24.000000  \n",
       "25%     448.000000  \n",
       "50%     840.000000  \n",
       "75%    1260.000000  \n",
       "max    2205.000000  "
      ]
     },
     "execution_count": 29,
     "metadata": {},
     "output_type": "execute_result"
    }
   ],
   "source": [
    "data.describe()"
   ]
  },
  {
   "cell_type": "code",
   "execution_count": 30,
   "id": "c217e9a5",
   "metadata": {},
   "outputs": [
    {
     "data": {
      "text/plain": [
       "Date               0\n",
       "Customer_ID        0\n",
       "City               0\n",
       "Category           0\n",
       "Product            0\n",
       "Unit Price         0\n",
       "Quantity           0\n",
       "Sales Amount       0\n",
       "Used_Discount      0\n",
       "Discount_Amount    0\n",
       "Final Sales        0\n",
       "dtype: int64"
      ]
     },
     "execution_count": 30,
     "metadata": {},
     "output_type": "execute_result"
    }
   ],
   "source": [
    "data.isnull().sum()"
   ]
  },
  {
   "cell_type": "code",
   "execution_count": 31,
   "id": "6ce6a35b",
   "metadata": {},
   "outputs": [
    {
     "name": "stdout",
     "output_type": "stream",
     "text": [
      "Date\n",
      "Customer_ID\n",
      "City\n",
      "Category\n",
      "Product\n",
      "Unit Price\n",
      "Quantity\n",
      "Sales Amount\n",
      "Used_Discount\n",
      "Discount_Amount\n",
      "Final Sales\n"
     ]
    }
   ],
   "source": [
    "for column in data.columns:\n",
    "    print(column)"
   ]
  },
  {
   "cell_type": "code",
   "execution_count": 32,
   "id": "7ff880e6",
   "metadata": {},
   "outputs": [
    {
     "data": {
      "text/plain": [
       "Date               730\n",
       "Customer_ID        100\n",
       "City                10\n",
       "Category             1\n",
       "Product              5\n",
       "Unit Price           4\n",
       "Quantity            49\n",
       "Sales Amount       149\n",
       "Used_Discount        2\n",
       "Discount_Amount    134\n",
       "Final Sales        243\n",
       "dtype: int64"
      ]
     },
     "execution_count": 32,
     "metadata": {},
     "output_type": "execute_result"
    }
   ],
   "source": [
    "data.nunique()"
   ]
  },
  {
   "cell_type": "markdown",
   "id": "95811f4b",
   "metadata": {},
   "source": [
    "<b><h1>Lab 10 Task</b></h1>\n"
   ]
  },
  {
   "cell_type": "code",
   "execution_count": 33,
   "id": "1a26795f",
   "metadata": {},
   "outputs": [],
   "source": [
    "# dropping irrelevant columns \n",
    "\n",
    "data.drop('Date', axis = 1 , inplace=True)\n",
    "data.drop('Customer_ID', axis = 1 , inplace=True)\n",
    "data.drop('Used_Discount', axis = 1 , inplace=True)"
   ]
  },
  {
   "cell_type": "code",
   "execution_count": 34,
   "id": "929b3097",
   "metadata": {},
   "outputs": [
    {
     "name": "stdout",
     "output_type": "stream",
     "text": [
      "<class 'pandas.core.frame.DataFrame'>\n",
      "RangeIndex: 730 entries, 0 to 729\n",
      "Data columns (total 8 columns):\n",
      " #   Column           Non-Null Count  Dtype \n",
      "---  ------           --------------  ----- \n",
      " 0   City             730 non-null    object\n",
      " 1   Category         730 non-null    object\n",
      " 2   Product          730 non-null    object\n",
      " 3   Unit Price       730 non-null    int64 \n",
      " 4   Quantity         730 non-null    int64 \n",
      " 5   Sales Amount     730 non-null    int64 \n",
      " 6   Discount_Amount  730 non-null    int64 \n",
      " 7   Final Sales      730 non-null    int64 \n",
      "dtypes: int64(5), object(3)\n",
      "memory usage: 45.8+ KB\n"
     ]
    }
   ],
   "source": [
    "data.info()"
   ]
  },
  {
   "cell_type": "code",
   "execution_count": 35,
   "id": "6ed16ad1",
   "metadata": {},
   "outputs": [],
   "source": [
    "# change type to int\n",
    "\n",
    "def encode(x):\n",
    "    le = LabelEncoder()\n",
    "    for col in x:\n",
    "        data[col] = le.fit_transform(data[col])\n",
    "\n",
    "columns = ['Product', 'Category', 'City' ]\n",
    "encode(columns)"
   ]
  },
  {
   "cell_type": "code",
   "execution_count": 36,
   "id": "dacbcf80",
   "metadata": {},
   "outputs": [
    {
     "name": "stdout",
     "output_type": "stream",
     "text": [
      "<class 'pandas.core.frame.DataFrame'>\n",
      "RangeIndex: 730 entries, 0 to 729\n",
      "Data columns (total 8 columns):\n",
      " #   Column           Non-Null Count  Dtype\n",
      "---  ------           --------------  -----\n",
      " 0   City             730 non-null    int64\n",
      " 1   Category         730 non-null    int64\n",
      " 2   Product          730 non-null    int64\n",
      " 3   Unit Price       730 non-null    int64\n",
      " 4   Quantity         730 non-null    int64\n",
      " 5   Sales Amount     730 non-null    int64\n",
      " 6   Discount_Amount  730 non-null    int64\n",
      " 7   Final Sales      730 non-null    int64\n",
      "dtypes: int64(8)\n",
      "memory usage: 45.8 KB\n"
     ]
    }
   ],
   "source": [
    "data.info()"
   ]
  },
  {
   "cell_type": "markdown",
   "id": "db60e760",
   "metadata": {},
   "source": [
    "<b><h1>Lab Task 11 </b></h1>"
   ]
  },
  {
   "cell_type": "code",
   "execution_count": 37,
   "id": "8d0c1940",
   "metadata": {},
   "outputs": [],
   "source": [
    "X = data[[ 'City', 'Product', 'Unit Price', 'Quantity']]\n",
    "y = data['Final Sales']"
   ]
  },
  {
   "cell_type": "code",
   "execution_count": 38,
   "id": "c60bffc4",
   "metadata": {},
   "outputs": [],
   "source": [
    "trainX, testX, trainY, testY = train_test_split(X, y, test_size = 0.2, shuffle = False )"
   ]
  },
  {
   "cell_type": "code",
   "execution_count": 39,
   "id": "511185c8",
   "metadata": {},
   "outputs": [
    {
     "name": "stdout",
     "output_type": "stream",
     "text": [
      "GradientBoostingRegressor()\n"
     ]
    }
   ],
   "source": [
    "model = GradientBoostingRegressor()\n",
    "model.fit(trainX, trainY)\n",
    "print(model)"
   ]
  },
  {
   "cell_type": "code",
   "execution_count": 40,
   "id": "7f706012",
   "metadata": {},
   "outputs": [],
   "source": [
    "predictions = model.predict(testX)"
   ]
  },
  {
   "cell_type": "code",
   "execution_count": 41,
   "id": "3ac5157b",
   "metadata": {},
   "outputs": [
    {
     "name": "stdout",
     "output_type": "stream",
     "text": [
      "120.53890408955057\n",
      "error: 5.466616965512498%\n"
     ]
    }
   ],
   "source": [
    "mse = mean_squared_error(testY, predictions)\n",
    "print(mse**0.5)\n",
    "error = (mse**0.5 / 2205)*100\n",
    "print(f'error: {error}%')"
   ]
  },
  {
   "cell_type": "code",
   "execution_count": 42,
   "id": "035f7fed",
   "metadata": {},
   "outputs": [
    {
     "data": {
      "image/png": "[encoded data removed]",
      "text/plain": [
       "<Figure size 640x480 with 1 Axes>"
      ]
     },
     "metadata": {},
     "output_type": "display_data"
    }
   ],
   "source": [
    "import matplotlib.pyplot as plt\n",
    "\n",
    "plt.scatter(testY, predictions)\n",
    "plt.xlabel(\"Actual Final Sales\")\n",
    "plt.ylabel(\"Predicted Final Sales\")\n",
    "plt.title(\"Actual vs Predicted Final Sales\")\n",
    "plt.plot([testY.min(), testY.max()], [testY.min(), testY.max()], 'r--')  # perfect prediction line\n",
    "plt.show()"
   ]
  },
  {
   "cell_type": "code",
   "execution_count": 43,
   "id": "abcfd6fc",
   "metadata": {},
   "outputs": [
    {
     "data": {
      "text/plain": [
       "['model.pkl']"
      ]
     },
     "execution_count": 43,
     "metadata": {},
     "output_type": "execute_result"
    }
   ],
   "source": [
    "joblib.dump(model, 'model.pkl')"
   ]
  },
  {
   "cell_type": "code",
   "execution_count": null,
   "id": "919710b0",
   "metadata": {},
   "outputs": [],
   "source": []
  }
 ],
 "metadata": {
  "kernelspec": {
   "display_name": "Python 3",
   "language": "python",
   "name": "python3"
  },
  "language_info": {
   "codemirror_mode": {
    "name": "ipython",
    "version": 3
   },
   "file_extension": ".py",
   "mimetype": "text/x-python",
   "name": "python",
   "nbconvert_exporter": "python",
   "pygments_lexer": "ipython3",
   "version": "3.11.2"
  }
 },
 "nbformat": 4,
 "nbformat_minor": 5
}
